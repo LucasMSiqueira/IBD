{
 "cells": [
  {
   "cell_type": "markdown",
   "metadata": {
    "id": "2quaM0o5G404"
   },
   "source": [
    "<h1><center>Universidade Federal de Minas Gerais</center></h1>\n",
    "<h3><center>Departamento de Ciência da Computação</center></h3>\n",
    "<h3><center>Introdução a Banco de Dados -  Trabalho Prático #1</center></h3>\n"
   ]
  },
  {
   "cell_type": "markdown",
   "metadata": {
    "id": "__T58tCjoXSx"
   },
   "source": [
    "# 1. Introdução"
   ]
  },
  {
   "cell_type": "markdown",
   "metadata": {
    "id": "r9gaXCSG1-6y"
   },
   "source": [
    "### 1.1. Contexto"
   ]
  },
  {
   "cell_type": "markdown",
   "metadata": {
    "id": "8glNz6nlG405"
   },
   "source": [
    "Nesse trabalho prático utilizaremos o banco de dados representado pelo schema abaixo:\n",
    "\n",
    "![Modelo_BD.png](https://github.com/claudiovaliense/ibd/blob/main/data/schema.png?raw=true)"
   ]
  },
  {
   "cell_type": "markdown",
   "metadata": {
    "id": "O-XWIzUOyW_b",
    "pycharm": {
     "name": "#%% md\n"
    }
   },
   "source": [
    "### 1.2. Entrega\n"
   ]
  },
  {
   "cell_type": "markdown",
   "metadata": {
    "id": "AvrMbGsEyjUu",
    "pycharm": {
     "name": "#%% md\n"
    }
   },
   "source": [
    "\n",
    "\n",
    "1.   Você deve completar esse notebook, executar todas as células e submetê-lo no **Minha UFMG**.\n",
    "2.   Você pode entregar até o dia 23/01/2022 às 23:59.\n",
    "3. O trabalho é individual e vale 15 pontos.\n",
    "\n",
    "\n",
    "\n",
    "\n"
   ]
  },
  {
   "cell_type": "markdown",
   "metadata": {
    "id": "HJwmiueqok-8"
   },
   "source": [
    "# 2. Preparação do Ambiente"
   ]
  },
  {
   "cell_type": "code",
   "execution_count": 6,
   "metadata": {
    "id": "Wv-_wG6VG408",
    "scrolled": true
   },
   "outputs": [],
   "source": [
    "# importando os packages necessários\n",
    "import io\n",
    "import sqlite3\n",
    "import pandas as pd\n",
    "import matplotlib.pyplot as plt"
   ]
  },
  {
   "cell_type": "code",
   "execution_count": 1,
   "metadata": {},
   "outputs": [],
   "source": [
    "import wget"
   ]
  },
  {
   "cell_type": "code",
   "execution_count": 2,
   "metadata": {},
   "outputs": [
    {
     "name": "stdout",
     "output_type": "stream",
     "text": [
      "\r",
      "  0% [                                                                            ]      0 / 277046\r",
      "  2% [..                                                                          ]   8192 / 277046\r",
      "  5% [....                                                                        ]  16384 / 277046\r",
      "  8% [......                                                                      ]  24576 / 277046\r",
      " 11% [........                                                                    ]  32768 / 277046\r",
      " 14% [...........                                                                 ]  40960 / 277046\r",
      " 17% [.............                                                               ]  49152 / 277046\r",
      " 20% [...............                                                             ]  57344 / 277046\r",
      " 23% [.................                                                           ]  65536 / 277046\r",
      " 26% [....................                                                        ]  73728 / 277046\r",
      " 29% [......................                                                      ]  81920 / 277046\r",
      " 32% [........................                                                    ]  90112 / 277046\r",
      " 35% [..........................                                                  ]  98304 / 277046\r",
      " 38% [.............................                                               ] 106496 / 277046\r",
      " 41% [...............................                                             ] 114688 / 277046\r",
      " 44% [.................................                                           ] 122880 / 277046\r",
      " 47% [...................................                                         ] 131072 / 277046\r",
      " 50% [......................................                                      ] 139264 / 277046\r",
      " 53% [........................................                                    ] 147456 / 277046\r",
      " 56% [..........................................                                  ] 155648 / 277046\r",
      " 59% [............................................                                ] 163840 / 277046\r",
      " 62% [...............................................                             ] 172032 / 277046\r",
      " 65% [.................................................                           ] 180224 / 277046\r",
      " 68% [...................................................                         ] 188416 / 277046\r",
      " 70% [.....................................................                       ] 196608 / 277046\r",
      " 73% [........................................................                    ] 204800 / 277046\r",
      " 76% [..........................................................                  ] 212992 / 277046\r",
      " 79% [............................................................                ] 221184 / 277046\r",
      " 82% [..............................................................              ] 229376 / 277046\r",
      " 85% [.................................................................           ] 237568 / 277046\r",
      " 88% [...................................................................         ] 245760 / 277046\r",
      " 91% [.....................................................................       ] 253952 / 277046\r",
      " 94% [.......................................................................     ] 262144 / 277046\r",
      " 97% [..........................................................................  ] 270336 / 277046\r",
      "100% [............................................................................] 277046 / 277046"
     ]
    },
    {
     "data": {
      "text/plain": [
       "'despesas_publicas_tp1.sql'"
      ]
     },
     "execution_count": 2,
     "metadata": {},
     "output_type": "execute_result"
    }
   ],
   "source": [
    "wget.download(\"https://raw.githubusercontent.com/GiovannaR/ibd/master/data/despesas_publicas_tp1.sql\")"
   ]
  },
  {
   "cell_type": "code",
   "execution_count": 3,
   "metadata": {
    "colab": {
     "base_uri": "https://localhost:8080/"
    },
    "id": "wFSKBvDfG41C",
    "outputId": "d25ba8a1-8d3f-4bc1-9bfe-b2a479958245",
    "pycharm": {
     "name": "#%%\n"
    }
   },
   "outputs": [
    {
     "name": "stderr",
     "output_type": "stream",
     "text": [
      "'wget' nÆo ‚ reconhecido como um comando interno\n",
      "ou externo, um programa oper vel ou um arquivo em lotes.\n"
     ]
    }
   ],
   "source": [
    "# download do dump do banco de  dados:\n",
    "!wget https://raw.githubusercontent.com/GiovannaR/ibd/master/data/despesas_publicas_tp1.sql"
   ]
  },
  {
   "cell_type": "markdown",
   "metadata": {
    "id": "FTqbHHOw2iEE",
    "pycharm": {
     "name": "#%% md\n"
    }
   },
   "source": [
    "### 2.1. Criação da conexão com o banco\n",
    "* No momento da conexão, é informado o nome do arquivo onde será montado o banco de dados. No nosso caso, este arquivo não precisa ser pré-existente, porque iremos carregar as informações de um dump;\n",
    "* Se este comando for executado com um arquivo que já existe e possui as mesmas tabelas que serão criadas, ocorrerá um erro no momento da execução do script mais à frente."
   ]
  },
  {
   "cell_type": "code",
   "execution_count": 7,
   "metadata": {
    "id": "wuRZ8VP3G41G",
    "pycharm": {
     "name": "#%%\n"
    }
   },
   "outputs": [],
   "source": [
    "conn = sqlite3.connect('despesas.db')\n",
    "cursor = conn.cursor()"
   ]
  },
  {
   "cell_type": "markdown",
   "metadata": {
    "id": "Us7-HZg-G41N",
    "pycharm": {
     "name": "#%% md\n"
    }
   },
   "source": [
    "### 2.2. Execução do script para inicializar e popular o banco de dados\n",
    "\n",
    "* Criada a conexão, iremos utilizar o arquivo .sql disponibilizado para recuperar o schema e os dados do banco"
   ]
  },
  {
   "cell_type": "code",
   "execution_count": 8,
   "metadata": {
    "colab": {
     "base_uri": "https://localhost:8080/"
    },
    "id": "3tthWfmTG41P",
    "outputId": "8f45966f-18fa-46c4-a9c4-150eb90ed2fd",
    "pycharm": {
     "name": "#%%\n"
    }
   },
   "outputs": [
    {
     "data": {
      "text/plain": [
       "<sqlite3.Cursor at 0x2b1d6338ab0>"
      ]
     },
     "execution_count": 8,
     "metadata": {},
     "output_type": "execute_result"
    }
   ],
   "source": [
    "f = io.open('despesas_publicas_tp1.sql', 'r', encoding='ISO-8859-1')\n",
    "sql = f.read()\n",
    "cursor.executescript(sql)"
   ]
  },
  {
   "cell_type": "markdown",
   "metadata": {
    "id": "bq5lfEMRG41T"
   },
   "source": [
    "### 2.3. Realizando consultas no banco de dados\n",
    "\n",
    "* Criada a conexão e realizada a carga dos dados no banco, pode ser executada qualquer consulta SQL;\n",
    "* O SQLite3 permite que o retorno dos dados seja feito em vários formatos, entretanto, utilizaremos o retorno em um dataframe do Pandas.\n",
    "\n",
    "\n",
    "\n",
    "**CONSULTA EXEMPLO:** todos os órgãos ordenados pela quantidade de orgãos subordinados de forma decrescente."
   ]
  },
  {
   "cell_type": "code",
   "execution_count": 9,
   "metadata": {
    "colab": {
     "base_uri": "https://localhost:8080/",
     "height": 489
    },
    "id": "WcR2nrjLG41T",
    "outputId": "529a815a-36e3-4e3d-8e40-a1292ba091a0",
    "pycharm": {
     "name": "#%%\n"
    }
   },
   "outputs": [
    {
     "data": {
      "text/html": [
       "<div>\n",
       "<style scoped>\n",
       "    .dataframe tbody tr th:only-of-type {\n",
       "        vertical-align: middle;\n",
       "    }\n",
       "\n",
       "    .dataframe tbody tr th {\n",
       "        vertical-align: top;\n",
       "    }\n",
       "\n",
       "    .dataframe thead th {\n",
       "        text-align: right;\n",
       "    }\n",
       "</style>\n",
       "<table border=\"1\" class=\"dataframe\">\n",
       "  <thead>\n",
       "    <tr style=\"text-align: right;\">\n",
       "      <th></th>\n",
       "      <th>COD_ORGAO</th>\n",
       "      <th>NOME_ORGAO</th>\n",
       "      <th>QTD_ORGAOS_SUBORDINADOS</th>\n",
       "    </tr>\n",
       "  </thead>\n",
       "  <tbody>\n",
       "    <tr>\n",
       "      <th>0</th>\n",
       "      <td>26000</td>\n",
       "      <td>Ministério da Educação</td>\n",
       "      <td>104</td>\n",
       "    </tr>\n",
       "    <tr>\n",
       "      <th>1</th>\n",
       "      <td>30000</td>\n",
       "      <td>Ministério da Justiça e Segurança Pública</td>\n",
       "      <td>6</td>\n",
       "    </tr>\n",
       "    <tr>\n",
       "      <th>2</th>\n",
       "      <td>22000</td>\n",
       "      <td>Ministério da Agricultura, Pecuária e Abastec</td>\n",
       "      <td>5</td>\n",
       "    </tr>\n",
       "    <tr>\n",
       "      <th>3</th>\n",
       "      <td>24000</td>\n",
       "      <td>Ministério da Ciência, Tecnologia, Inovações</td>\n",
       "      <td>4</td>\n",
       "    </tr>\n",
       "    <tr>\n",
       "      <th>4</th>\n",
       "      <td>52000</td>\n",
       "      <td>Ministério da Defesa</td>\n",
       "      <td>4</td>\n",
       "    </tr>\n",
       "    <tr>\n",
       "      <th>5</th>\n",
       "      <td>53000</td>\n",
       "      <td>Ministério da Integração Nacional</td>\n",
       "      <td>4</td>\n",
       "    </tr>\n",
       "    <tr>\n",
       "      <th>6</th>\n",
       "      <td>25000</td>\n",
       "      <td>Ministério da Fazenda</td>\n",
       "      <td>3</td>\n",
       "    </tr>\n",
       "    <tr>\n",
       "      <th>7</th>\n",
       "      <td>36000</td>\n",
       "      <td>Ministério da Saúde</td>\n",
       "      <td>3</td>\n",
       "    </tr>\n",
       "    <tr>\n",
       "      <th>8</th>\n",
       "      <td>20000</td>\n",
       "      <td>Presidência da República</td>\n",
       "      <td>2</td>\n",
       "    </tr>\n",
       "    <tr>\n",
       "      <th>9</th>\n",
       "      <td>39000</td>\n",
       "      <td>Ministério dos Transportes, Portos e Aviação</td>\n",
       "      <td>2</td>\n",
       "    </tr>\n",
       "    <tr>\n",
       "      <th>10</th>\n",
       "      <td>44000</td>\n",
       "      <td>Ministério do Meio Ambiente</td>\n",
       "      <td>2</td>\n",
       "    </tr>\n",
       "    <tr>\n",
       "      <th>11</th>\n",
       "      <td>55000</td>\n",
       "      <td>Ministério do Desenvolvimento Social</td>\n",
       "      <td>2</td>\n",
       "    </tr>\n",
       "    <tr>\n",
       "      <th>12</th>\n",
       "      <td>35000</td>\n",
       "      <td>Ministério das Relações Exteriores</td>\n",
       "      <td>1</td>\n",
       "    </tr>\n",
       "    <tr>\n",
       "      <th>13</th>\n",
       "      <td>81000</td>\n",
       "      <td>Ministério dos Direitos Humanos</td>\n",
       "      <td>1</td>\n",
       "    </tr>\n",
       "  </tbody>\n",
       "</table>\n",
       "</div>"
      ],
      "text/plain": [
       "    COD_ORGAO                                     NOME_ORGAO  \\\n",
       "0       26000                         Ministério da Educação   \n",
       "1       30000      Ministério da Justiça e Segurança Pública   \n",
       "2       22000  Ministério da Agricultura, Pecuária e Abastec   \n",
       "3       24000  Ministério da Ciência, Tecnologia, Inovações    \n",
       "4       52000                           Ministério da Defesa   \n",
       "5       53000              Ministério da Integração Nacional   \n",
       "6       25000                          Ministério da Fazenda   \n",
       "7       36000                            Ministério da Saúde   \n",
       "8       20000                       Presidência da República   \n",
       "9       39000  Ministério dos Transportes, Portos e Aviação    \n",
       "10      44000                    Ministério do Meio Ambiente   \n",
       "11      55000           Ministério do Desenvolvimento Social   \n",
       "12      35000             Ministério das Relações Exteriores   \n",
       "13      81000                Ministério dos Direitos Humanos   \n",
       "\n",
       "    QTD_ORGAOS_SUBORDINADOS  \n",
       "0                       104  \n",
       "1                         6  \n",
       "2                         5  \n",
       "3                         4  \n",
       "4                         4  \n",
       "5                         4  \n",
       "6                         3  \n",
       "7                         3  \n",
       "8                         2  \n",
       "9                         2  \n",
       "10                        2  \n",
       "11                        2  \n",
       "12                        1  \n",
       "13                        1  "
      ]
     },
     "execution_count": 9,
     "metadata": {},
     "output_type": "execute_result"
    }
   ],
   "source": [
    "df = pd.read_sql_query(\"SELECT * FROM ORGAO ORDER BY QTD_ORGAOS_SUBORDINADOS DESC\", conn)\n",
    "df"
   ]
  },
  {
   "cell_type": "markdown",
   "metadata": {
    "id": "8n1eSJAcppwc",
    "pycharm": {
     "name": "#%% md\n"
    }
   },
   "source": [
    "#3. Consultas"
   ]
  },
  {
   "cell_type": "markdown",
   "metadata": {
    "id": "sf2LzUSWs4nM"
   },
   "source": [
    "Expresse cada consulta abaixo utilizando SQL: \n"
   ]
  },
  {
   "cell_type": "markdown",
   "metadata": {
    "id": "eM71aOGsG41X",
    "pycharm": {
     "name": "#%% md\n"
    }
   },
   "source": [
    "**1.** Retorne a quantidade de palavras em cada registro da coluna nome_orgao da tabela orgão."
   ]
  },
  {
   "cell_type": "code",
   "execution_count": 2,
   "metadata": {
    "id": "x6bTFKHHG41j",
    "pycharm": {
     "name": "#%%\n"
    }
   },
   "outputs": [],
   "source": []
  },
  {
   "cell_type": "markdown",
   "metadata": {
    "id": "5631TeDlG41m",
    "pycharm": {
     "name": "#%% md\n"
    }
   },
   "source": [
    "\n",
    "\n",
    "```\n",
    "# Isto está formatado como código\n",
    "```\n",
    "\n",
    "**2.** Dado a coluna nome_orgao, retorne a primeira posição que a string 'da' aparece da tabela orgão "
   ]
  },
  {
   "cell_type": "code",
   "execution_count": null,
   "metadata": {
    "id": "XBFBGjjTG41n",
    "pycharm": {
     "name": "#%%\n"
    }
   },
   "outputs": [],
   "source": []
  },
  {
   "cell_type": "markdown",
   "metadata": {
    "id": "0Hk-EcnpG41q",
    "pycharm": {
     "name": "#%% md\n"
    }
   },
   "source": [
    "**3.** Liste todos os nomes dos órgãos e o valor das despesas totais no ano de 2018 para os mesmos, ordenando de forma decrescente pelo valor."
   ]
  },
  {
   "cell_type": "code",
   "execution_count": null,
   "metadata": {
    "id": "LIEa2HJRG41r",
    "pycharm": {
     "name": "#%%\n"
    },
    "scrolled": false
   },
   "outputs": [],
   "source": []
  },
  {
   "cell_type": "markdown",
   "metadata": {
    "id": "XbWL79JAG41y",
    "pycharm": {
     "name": "#%% md\n"
    }
   },
   "source": [
    "**4.** Liste o mês e ano, modalidade, programa de governo e valor de todas as despesas do órgão Ministério da Fazenda no primeiro semestre de 2018.\n",
    "\n",
    "> Bloco com recuo\n",
    "\n"
   ]
  },
  {
   "cell_type": "code",
   "execution_count": null,
   "metadata": {
    "id": "SNDpxc_3G41z",
    "pycharm": {
     "name": "#%%\n"
    },
    "scrolled": false
   },
   "outputs": [],
   "source": []
  },
  {
   "cell_type": "markdown",
   "metadata": {
    "id": "Yo9Iln_yG412",
    "pycharm": {
     "name": "#%% md\n"
    }
   },
   "source": [
    "**5.** Liste o código e nome dos programas de governo que possuíram os 3 maiores valores de despesas totais na função de educação durante o ano de 2018."
   ]
  },
  {
   "cell_type": "code",
   "execution_count": null,
   "metadata": {
    "id": "2C3s7o8sG413",
    "pycharm": {
     "name": "#%%\n"
    },
    "scrolled": false
   },
   "outputs": [],
   "source": []
  },
  {
   "cell_type": "markdown",
   "metadata": {
    "id": "4TpNWfhxG416",
    "pycharm": {
     "name": "#%% md\n"
    }
   },
   "source": [
    "**6.** Transforme os caracteres em minúsculo e remova todos os termos 'da' na coluna nome_orgao da tabela orgão."
   ]
  },
  {
   "cell_type": "code",
   "execution_count": null,
   "metadata": {
    "id": "eZ25oY25G417",
    "pycharm": {
     "name": "#%%\n"
    },
    "scrolled": false
   },
   "outputs": [],
   "source": []
  },
  {
   "cell_type": "markdown",
   "metadata": {
    "id": "5vg_FHhhG42C",
    "pycharm": {
     "name": "#%% md\n"
    }
   },
   "source": [
    "**7.** Liste os órgãos governamentais e a quantidade de programas de governo distintos envolvidos nas despesas públicas desses órgãos. Nesta consulta, desconsidere valores de despesa negativos ou iguais a zero no período."
   ]
  },
  {
   "cell_type": "code",
   "execution_count": null,
   "metadata": {
    "id": "8m2VR3rYG42C",
    "pycharm": {
     "name": "#%%\n"
    }
   },
   "outputs": [],
   "source": []
  },
  {
   "cell_type": "markdown",
   "metadata": {
    "id": "4aTLYKVlG42F",
    "pycharm": {
     "name": "#%% md\n"
    }
   },
   "source": [
    "**8.** Liste os nomes das subfunções das despesas públicas envolvidas para cada programa de governo. Sua consulta deve retornar o nome do programa de governo, a subfunção da despesa, a quantidade de entradas de despesas públicas e o valor total dessas despesas."
   ]
  },
  {
   "cell_type": "code",
   "execution_count": null,
   "metadata": {
    "id": "SOJHEEkFG42G",
    "pycharm": {
     "name": "#%%\n"
    },
    "scrolled": false
   },
   "outputs": [],
   "source": []
  },
  {
   "cell_type": "markdown",
   "metadata": {
    "id": "OD7TxifCG42K",
    "pycharm": {
     "name": "#%% md\n"
    }
   },
   "source": [
    "**9.** Liste todas as despesas públicas (código da despesa, mês e ano da despesa, modalidade, valor) em que o órgão responsável é aquele que possui o maior número de órgãos subordinados."
   ]
  },
  {
   "cell_type": "code",
   "execution_count": null,
   "metadata": {
    "id": "qIdkOCpSG42K",
    "pycharm": {
     "name": "#%%\n"
    }
   },
   "outputs": [],
   "source": []
  },
  {
   "cell_type": "markdown",
   "metadata": {
    "id": "k11q5Eh0G42Q",
    "pycharm": {
     "name": "#%% md\n"
    }
   },
   "source": [
    "**10.** Liste todas as despesas públicas (código da despesa, mês e ano da despesa, modalidade, valor) em que o órgão responsável é aquele que possui o maior valor total em despesas durante o ano de 2018."
   ]
  },
  {
   "cell_type": "code",
   "execution_count": null,
   "metadata": {
    "id": "W313teDOG42R",
    "pycharm": {
     "name": "#%%\n"
    }
   },
   "outputs": [],
   "source": []
  },
  {
   "cell_type": "markdown",
   "metadata": {
    "id": "bDN01TwoG42U",
    "pycharm": {
     "name": "#%% md\n"
    }
   },
   "source": [
    "**11.** Liste os códigos e nomes dos programas de governo relacionados ao órgão (ou órgãos, caso haja empate) que teve menos registros de despesas públicas durante o ano."
   ]
  },
  {
   "cell_type": "code",
   "execution_count": null,
   "metadata": {
    "id": "r16cTfiGG42V",
    "pycharm": {
     "name": "#%%\n"
    },
    "scrolled": false
   },
   "outputs": [],
   "source": []
  },
  {
   "cell_type": "markdown",
   "metadata": {
    "id": "x18gb-yqG42Y",
    "pycharm": {
     "name": "#%% md\n"
    }
   },
   "source": [
    "**12.**  Álgebra relacional: projeção do NOME_FUNCAO e NOME_SUBFUNCAO da junção natural das tabelas FUNCAO, DETALHAMENTO_FUNCAO e SUBFUNCAO"
   ]
  },
  {
   "cell_type": "code",
   "execution_count": null,
   "metadata": {
    "id": "73jm4FOHG42Z",
    "pycharm": {
     "name": "#%%\n"
    }
   },
   "outputs": [],
   "source": []
  },
  {
   "cell_type": "markdown",
   "metadata": {
    "id": "Mwv-emqQG42c",
    "pycharm": {
     "name": "#%% md\n"
    }
   },
   "source": [
    "**13.**  Álgebra relacional: projeção de MODALIDADE_DESPESA, VALOR_DESPESA e NOME_PROGRAMA_GOVERNO da junção natural das tabelas PROGRAMA_GOVERNO e DESPESA_PUBLICA onde a MODALIDADE_DESPESA = 'Reserva de Contingência'"
   ]
  },
  {
   "cell_type": "code",
   "execution_count": null,
   "metadata": {
    "id": "JG2E4JajG42d",
    "pycharm": {
     "name": "#%%\n"
    }
   },
   "outputs": [],
   "source": []
  },
  {
   "cell_type": "markdown",
   "metadata": {
    "id": "TVqX_v22G42i",
    "pycharm": {
     "name": "#%% md\n"
    }
   },
   "source": [
    "**14.**  Álgebra relacional: projeção de VALOR_DESPESA e NOME_ORGAO da junção natural das tabelas DESPESA_PUBLICA e ORGAO onde o NOME_ORGAO = 'Ministério da Fazenda'"
   ]
  },
  {
   "cell_type": "code",
   "execution_count": null,
   "metadata": {
    "id": "0ylNfNJoG42j",
    "pycharm": {
     "name": "#%%\n"
    }
   },
   "outputs": [],
   "source": []
  },
  {
   "cell_type": "markdown",
   "metadata": {
    "id": "ikjln39psbK6"
   },
   "source": [
    "**15.**  Álgebra relacional: projeção de NOME_PROGRAMA_GOVERNO e VALOR_DESPESA da junção natural das tabelas DESPESA_PUBLICA, PROGRAMA_GOVERNO e ORGAO onde o NOME_ORGAO = 'Ministério da Saúde'"
   ]
  },
  {
   "cell_type": "code",
   "execution_count": null,
   "metadata": {
    "id": "jetjhyCK1Lyj",
    "pycharm": {
     "name": "#%%\n"
    }
   },
   "outputs": [],
   "source": []
  },
  {
   "cell_type": "markdown",
   "metadata": {
    "id": "clX3ruU9G42q"
   },
   "source": [
    "# 4. Fechamento da conexão com o banco\n",
    "\n",
    "* Após serem realizadas todas as consultas necessárias, é aconselhavel encerrar formalmente a conexão com o banco de dados"
   ]
  },
  {
   "cell_type": "code",
   "execution_count": null,
   "metadata": {
    "id": "my0mPqYVG42r"
   },
   "outputs": [],
   "source": [
    "conn.close()"
   ]
  }
 ],
 "metadata": {
  "colab": {
   "collapsed_sections": [],
   "name": "Cópia de ibd_tp_01.ipynb",
   "provenance": [],
   "toc_visible": true
  },
  "kernelspec": {
   "display_name": "Python 3 (ipykernel)",
   "language": "python",
   "name": "python3"
  },
  "language_info": {
   "codemirror_mode": {
    "name": "ipython",
    "version": 3
   },
   "file_extension": ".py",
   "mimetype": "text/x-python",
   "name": "python",
   "nbconvert_exporter": "python",
   "pygments_lexer": "ipython3",
   "version": "3.9.9"
  }
 },
 "nbformat": 4,
 "nbformat_minor": 1
}
